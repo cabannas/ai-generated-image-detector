{
 "cells": [
  {
   "cell_type": "code",
   "execution_count": 6,
   "metadata": {},
   "outputs": [],
   "source": [
    "import os\n",
    "import sys\n",
    "import requests\n",
    "from PIL import Image\n",
    "from io import BytesIO\n",
    "import csv\n",
    "from tqdm import tqdm"
   ]
  },
  {
   "cell_type": "code",
   "execution_count": 7,
   "metadata": {},
   "outputs": [],
   "source": [
    "# Ruta al archivo CSV\n",
    "csv_file_path = 'dataset_images_diffusion.csv'\n",
    "\n",
    "# Ruta de la carpeta donde se guardarán las imágenes procesadas\n",
    "output_folder_path = 'dataset/fake'\n",
    "\n",
    "# Crear la carpeta si no existe\n",
    "if not os.path.exists(output_folder_path):\n",
    "    os.makedirs(output_folder_path)"
   ]
  },
  {
   "cell_type": "code",
   "execution_count": 8,
   "metadata": {},
   "outputs": [],
   "source": [
    "# Función para procesar cada imagen\n",
    "def process_image(image_url, output_folder):\n",
    "    try:\n",
    "        response = requests.get(image_url, stream=True)\n",
    "        response.raise_for_status()  # Lanza una excepción si la respuesta es un error\n",
    "\n",
    "        # Recorta y guarda la imagen\n",
    "        with Image.open(BytesIO(response.content)) as image:\n",
    "            cropped_image = image.crop((0, 0, image.width, image.height - 50))\n",
    "            file_name = os.path.basename(image_url)\n",
    "            save_path = os.path.join(output_folder, file_name)\n",
    "            cropped_image.save(save_path)\n",
    "\n",
    "    except requests.exceptions.HTTPError as e:\n",
    "        print(f\"Error HTTP al descargar {image_url}: {e}\", file=sys.stderr)"
   ]
  },
  {
   "cell_type": "code",
   "execution_count": 9,
   "metadata": {},
   "outputs": [
    {
     "name": "stdout",
     "output_type": "stream",
     "text": [
      "Descargando imágenes:   2%|▏         | 16/1000 [00:04<04:23,  3.74imagen/s]"
     ]
    },
    {
     "name": "stderr",
     "output_type": "stream",
     "text": [
      "Error HTTP al descargar https://imgcdn.stablediffusionweb.com/2024/4/2/d142fb4a-9024-4e88-8160-98a017067917.jpg: 404 Client Error: Not Found for url: https://imgcdn.stablediffusionweb.com/2024/4/2/d142fb4a-9024-4e88-8160-98a017067917.jpg\n"
     ]
    },
    {
     "name": "stdout",
     "output_type": "stream",
     "text": [
      "Descargando imágenes:  12%|█▏        | 122/1000 [01:27<13:08,  1.11imagen/s]"
     ]
    },
    {
     "name": "stderr",
     "output_type": "stream",
     "text": [
      "Error HTTP al descargar https://imgcdn.stablediffusionweb.com/2024/4/2/dcddffbf-b42e-4cf4-866d-82071c5c182c.jpg: 404 Client Error: Not Found for url: https://imgcdn.stablediffusionweb.com/2024/4/2/dcddffbf-b42e-4cf4-866d-82071c5c182c.jpg\n"
     ]
    },
    {
     "name": "stdout",
     "output_type": "stream",
     "text": [
      "Descargando imágenes:  31%|███       | 311/1000 [04:49<10:21,  1.11imagen/s]"
     ]
    },
    {
     "name": "stderr",
     "output_type": "stream",
     "text": [
      "Error HTTP al descargar https://imgcdn.stablediffusionweb.com/2024/4/2/6d8e6005-097c-4ab9-83fa-1cb0fe3da56b.jpg: 404 Client Error: Not Found for url: https://imgcdn.stablediffusionweb.com/2024/4/2/6d8e6005-097c-4ab9-83fa-1cb0fe3da56b.jpg\n"
     ]
    },
    {
     "name": "stdout",
     "output_type": "stream",
     "text": [
      "Descargando imágenes:  36%|███▌      | 356/1000 [05:38<10:36,  1.01imagen/s]"
     ]
    },
    {
     "name": "stderr",
     "output_type": "stream",
     "text": [
      "Error HTTP al descargar https://imgcdn.stablediffusionweb.com/2024/4/2/15043ff9-939b-4459-aa28-27fe311ea8ec.jpg: 404 Client Error: Not Found for url: https://imgcdn.stablediffusionweb.com/2024/4/2/15043ff9-939b-4459-aa28-27fe311ea8ec.jpg\n"
     ]
    },
    {
     "name": "stdout",
     "output_type": "stream",
     "text": [
      "Descargando imágenes:  38%|███▊      | 380/1000 [06:02<08:36,  1.20imagen/s]"
     ]
    },
    {
     "name": "stderr",
     "output_type": "stream",
     "text": [
      "Error HTTP al descargar https://imgcdn.stablediffusionweb.com/2024/4/2/f413d318-f94f-4fa2-b4c1-2fc0055461be.jpg: 404 Client Error: Not Found for url: https://imgcdn.stablediffusionweb.com/2024/4/2/f413d318-f94f-4fa2-b4c1-2fc0055461be.jpg\n"
     ]
    },
    {
     "name": "stdout",
     "output_type": "stream",
     "text": [
      "Descargando imágenes:  61%|██████▏   | 613/1000 [09:57<04:33,  1.42imagen/s]"
     ]
    },
    {
     "name": "stderr",
     "output_type": "stream",
     "text": [
      "Error HTTP al descargar https://imgcdn.stablediffusionweb.com/2024/4/2/6a9ce216-fb87-4a97-acac-e56adc23046d.jpg: 404 Client Error: Not Found for url: https://imgcdn.stablediffusionweb.com/2024/4/2/6a9ce216-fb87-4a97-acac-e56adc23046d.jpg\n"
     ]
    },
    {
     "name": "stdout",
     "output_type": "stream",
     "text": [
      "Descargando imágenes:  62%|██████▏   | 623/1000 [10:06<05:25,  1.16imagen/s]"
     ]
    },
    {
     "name": "stderr",
     "output_type": "stream",
     "text": [
      "Error HTTP al descargar https://imgcdn.stablediffusionweb.com/2024/4/2/0f52f517-90f0-4ce3-9c01-0bcdf65377c7.jpg: 404 Client Error: Not Found for url: https://imgcdn.stablediffusionweb.com/2024/4/2/0f52f517-90f0-4ce3-9c01-0bcdf65377c7.jpg\n"
     ]
    },
    {
     "name": "stdout",
     "output_type": "stream",
     "text": [
      "Descargando imágenes:  62%|██████▎   | 625/1000 [10:07<04:21,  1.44imagen/s]"
     ]
    },
    {
     "name": "stderr",
     "output_type": "stream",
     "text": [
      "Error HTTP al descargar https://imgcdn.stablediffusionweb.com/2024/4/2/5995afbb-d06c-4815-8ac7-f52f9b05316f.jpg: 404 Client Error: Not Found for url: https://imgcdn.stablediffusionweb.com/2024/4/2/5995afbb-d06c-4815-8ac7-f52f9b05316f.jpg\n"
     ]
    },
    {
     "name": "stdout",
     "output_type": "stream",
     "text": [
      "Descargando imágenes: 100%|██████████| 1000/1000 [16:04<00:00,  1.04imagen/s]\n"
     ]
    }
   ],
   "source": [
    "with open(csv_file_path, newline='') as f:\n",
    "    # Contar el total de líneas para la barra de progreso\n",
    "    total_lines = sum(1 for line in f)\n",
    "    f.seek(0)  # Regresar al inicio del archivo\n",
    "    \n",
    "    image_urls = csv.reader(f)\n",
    "    for image_url in tqdm(image_urls, total=total_lines, desc='Descargando imágenes', unit='imagen', file=sys.stdout):\n",
    "        if image_url:  # Si la fila no está vacía\n",
    "            process_image(image_url[0], output_folder_path)"
   ]
  }
 ],
 "metadata": {
  "kernelspec": {
   "display_name": "Python 3",
   "language": "python",
   "name": "python3"
  },
  "language_info": {
   "codemirror_mode": {
    "name": "ipython",
    "version": 3
   },
   "file_extension": ".py",
   "mimetype": "text/x-python",
   "name": "python",
   "nbconvert_exporter": "python",
   "pygments_lexer": "ipython3",
   "version": "3.12.2"
  }
 },
 "nbformat": 4,
 "nbformat_minor": 2
}
