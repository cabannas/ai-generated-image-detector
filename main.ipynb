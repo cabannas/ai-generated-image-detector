{
 "cells": [
  {
   "cell_type": "code",
   "execution_count": 98,
   "metadata": {},
   "outputs": [],
   "source": [
    "import torch\n",
    "from torchvision import transforms\n",
    "from PIL import Image\n",
    "from networks.resnet import resnet50\n"
   ]
  },
  {
   "cell_type": "code",
   "execution_count": 99,
   "metadata": {},
   "outputs": [],
   "source": [
    "def load_model(model_path):\n",
    "    # Carga el modelo preentrenado de ResNet50 con una salida binaria\n",
    "    model = resnet50(num_classes=1)\n",
    "    state_dict = torch.load(model_path, map_location='cpu')\n",
    "    # El estado del modelo puede necesitar ser modificado ligeramente dependiendo de si se usó 'DataParallel' durante el entrenamiento\n",
    "    model.load_state_dict(state_dict['model'] if 'model' in state_dict else state_dict)\n",
    "    model.eval()  # Coloca el modelo en modo de evaluación\n",
    "    return model\n",
    "\n",
    "def preprocess_image(image_path, crop_size=224):\n",
    "    # Transforma la imagen para el modelo\n",
    "    trans = transforms.Compose([\n",
    "        transforms.Resize((crop_size, crop_size)),\n",
    "        transforms.ToTensor(),\n",
    "        transforms.Normalize(mean=[0.485, 0.456, 0.406], std=[0.229, 0.224, 0.225]),\n",
    "    ])\n",
    "    image = Image.open(image_path).convert('RGB')\n",
    "    return trans(image).unsqueeze(0)  # Añade una dimensión para batch_size=1\n",
    "\n",
    "def predict(model, img_tensor):\n",
    "    # Realiza la predicción usando el modelo\n",
    "    with torch.no_grad():\n",
    "        prediction = model(img_tensor)\n",
    "        # Aplica sigmoid para obtener la probabilidad de la clase 'fake'\n",
    "        probability = prediction.sigmoid().item()\n",
    "    return probability"
   ]
  },
  {
   "cell_type": "code",
   "execution_count": 100,
   "metadata": {},
   "outputs": [],
   "source": [
    "# Configura las rutas al modelo y a la imagen que deseas evaluar\n",
    "model_path = 'models/LDM/model_epoch_best.pth'  # Asegúrate de usar la ruta correcta\n",
    "image_path = 'data/imgs/tom.png'"
   ]
  },
  {
   "cell_type": "code",
   "execution_count": 101,
   "metadata": {},
   "outputs": [],
   "source": [
    "# Carga el modelo y la imagen\n",
    "model = load_model(model_path)\n",
    "img_tensor = preprocess_image(image_path)"
   ]
  },
  {
   "cell_type": "code",
   "execution_count": 102,
   "metadata": {},
   "outputs": [
    {
     "name": "stdout",
     "output_type": "stream",
     "text": [
      "Probability of being synthetic: 0.00%\n"
     ]
    }
   ],
   "source": [
    "# Obtiene la probabilidad de que la imagen sea sintética\n",
    "probability_fake = predict(model, img_tensor)\n",
    "print(f'Probability of being synthetic: {probability_fake * 100:.2f}%')"
   ]
  }
 ],
 "metadata": {
  "kernelspec": {
   "display_name": "Python 3",
   "language": "python",
   "name": "python3"
  },
  "language_info": {
   "codemirror_mode": {
    "name": "ipython",
    "version": 3
   },
   "file_extension": ".py",
   "mimetype": "text/x-python",
   "name": "python",
   "nbconvert_exporter": "python",
   "pygments_lexer": "ipython3",
   "version": "3.12.2"
  }
 },
 "nbformat": 4,
 "nbformat_minor": 2
}
