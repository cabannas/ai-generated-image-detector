{
 "cells": [
  {
   "cell_type": "code",
   "execution_count": 1,
   "metadata": {},
   "outputs": [],
   "source": [
    "import torch\n",
    "from torchvision import models, transforms\n",
    "from PIL import Image"
   ]
  },
  {
   "cell_type": "code",
   "execution_count": null,
   "metadata": {},
   "outputs": [],
   "source": [
    "# Asumimos que tienes la arquitectura correcta de Wang2020, aquí uso ResNet solo como ejemplo\n",
    "model = models.resnet50()  # Reemplazar con la arquitectura real de Wang2020\n",
    "model.fc = torch.nn.Linear(model.fc.in_features, 2)  # Ajustar según la salida del modelo de Wang2020"
   ]
  },
  {
   "cell_type": "code",
   "execution_count": null,
   "metadata": {},
   "outputs": [],
   "source": [
    "# Cargar los pesos del modelo\n",
    "model.load_state_dict(torch.load('path/to/model_epoch_best.pth', map_location=torch.device('cpu')))\n",
    "model.eval()"
   ]
  },
  {
   "cell_type": "code",
   "execution_count": null,
   "metadata": {},
   "outputs": [],
   "source": [
    "# Preprocesamiento de la imagen\n",
    "preprocess = transforms.Compose([\n",
    "    transforms.Resize(256),\n",
    "    transforms.CenterCrop(224),\n",
    "    transforms.ToTensor(),\n",
    "    transforms.Normalize(mean=[0.485, 0.456, 0.406], std=[0.229, 0.224, 0.225]),\n",
    "])"
   ]
  },
  {
   "cell_type": "code",
   "execution_count": null,
   "metadata": {},
   "outputs": [],
   "source": [
    "# Cargar la imagen\n",
    "img_path = 'path/to/your/image.jpg'\n",
    "img = Image.open(img_path)\n",
    "img_tensor = preprocess(img).unsqueeze(0)  # Añade una dimensión para batch_size"
   ]
  },
  {
   "cell_type": "code",
   "execution_count": null,
   "metadata": {},
   "outputs": [],
   "source": [
    "# Predicción\n",
    "with torch.no_grad():\n",
    "    outputs = model(img_tensor)\n",
    "    # Convierte los logits a probabilidades usando softmax\n",
    "    probabilities = torch.nn.functional.softmax(outputs, dim=1)\n",
    "    probability_fake = probabilities[0][1].item()\n",
    "\n",
    "print(f\"Probabilidad de que la imagen sea artificial: {probability_fake * 100:.2f}%\")"
   ]
  }
 ],
 "metadata": {
  "kernelspec": {
   "display_name": "Python 3",
   "language": "python",
   "name": "python3"
  },
  "language_info": {
   "codemirror_mode": {
    "name": "ipython",
    "version": 3
   },
   "file_extension": ".py",
   "mimetype": "text/x-python",
   "name": "python",
   "nbconvert_exporter": "python",
   "pygments_lexer": "ipython3",
   "version": "3.12.2"
  }
 },
 "nbformat": 4,
 "nbformat_minor": 2
}
